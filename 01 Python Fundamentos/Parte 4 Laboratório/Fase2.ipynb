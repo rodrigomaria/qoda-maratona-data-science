{
 "cells": [
  {
   "cell_type": "markdown",
   "metadata": {
    "colab_type": "text",
    "id": "CYNAmoj4zSXl"
   },
   "source": [
    "1. Crie um algoritmo em Python que peça 2 números e imprima o maior deles."
   ]
  },
  {
   "cell_type": "code",
   "execution_count": 1,
   "metadata": {
    "colab": {},
    "colab_type": "code",
    "id": "ViAfpy3GzPN-"
   },
   "outputs": [
    {
     "name": "stdout",
     "output_type": "stream",
     "text": [
      "Digite um número: 10\n",
      "Digite outro número: 9\n",
      "O maior número entre eles é o 10.\n"
     ]
    }
   ],
   "source": [
    "numero1 = float(input(\"Digite um número: \"))\n",
    "numero2 = float(input(\"Digite outro número: \"))\n",
    "if numero1 > numero2:\n",
    "    maior = numero1\n",
    "else:\n",
    "    maior = numero2\n",
    "print(f\"O maior número entre eles é o {maior}.\")"
   ]
  },
  {
   "cell_type": "markdown",
   "metadata": {
    "colab_type": "text",
    "id": "gdMis92izSmQ"
   },
   "source": [
    "2. Crie um algoritmo em Python que peça um valor e mostre na tela se o valor é positivo ou negativo."
   ]
  },
  {
   "cell_type": "code",
   "execution_count": 3,
   "metadata": {
    "colab": {},
    "colab_type": "code",
    "id": "BFpWkdCBz_zh"
   },
   "outputs": [
    {
     "name": "stdout",
     "output_type": "stream",
     "text": [
      "Digite um número: -2\n",
      "O número informado é negativo.\n"
     ]
    }
   ],
   "source": [
    "numero = float(input(\"Digite um número: \"))\n",
    "if numero < 0:\n",
    "    resultado = \"negativo\"\n",
    "else:\n",
    "    resultado = \"positivo\"\n",
    "print(f\"O número informado é {resultado}.\")"
   ]
  },
  {
   "cell_type": "markdown",
   "metadata": {
    "colab_type": "text",
    "id": "E_0l_Vx6zSo2"
   },
   "source": [
    "3. Crie um algoritmo em Python que verifique se uma letra digitada é vogal ou consoante."
   ]
  },
  {
   "cell_type": "code",
   "execution_count": 6,
   "metadata": {
    "colab": {},
    "colab_type": "code",
    "id": "KwJf7XZS0AZW"
   },
   "outputs": [
    {
     "name": "stdout",
     "output_type": "stream",
     "text": [
      "Digite uma letra: u\n",
      "A letra digitada é uma vogal.\n"
     ]
    }
   ],
   "source": [
    "letra = str(input(\"Digite uma letra: \"))\n",
    "letra = letra.lower()\n",
    "if letra in [\"a\", \"e\", \"i\", \"o\", \"u\"]:\n",
    "    resultado = \"vogal\"\n",
    "else:\n",
    "    resultado = \"consoante\"\n",
    "print(f\"A letra digitada é uma {resultado}.\")"
   ]
  },
  {
   "cell_type": "markdown",
   "metadata": {
    "colab_type": "text",
    "id": "1i4VCiiczSrL"
   },
   "source": [
    "4. Faça um programa para a leitura de duas notas parciais de um aluno. O programa deve calcular a média alcançada por aluno e apresentar:\n",
    "* \"Aprovado\", se a média alcançada for maior ou igual a sete;\n",
    "* \"Reprovado\", se a média for menor do que sete;\n",
    "* \"Aprovado com Distinção\", se a média for igual a 10."
   ]
  },
  {
   "cell_type": "code",
   "execution_count": 10,
   "metadata": {
    "colab": {},
    "colab_type": "code",
    "id": "yoW67hjA0BHy"
   },
   "outputs": [
    {
     "name": "stdout",
     "output_type": "stream",
     "text": [
      "Digite a primeira nota: 10\n",
      "Digite a segunda nota: 10\n",
      "Aprovado com Distinção\n"
     ]
    }
   ],
   "source": [
    "nota1 = float(input(\"Digite a primeira nota: \"))\n",
    "nota2 = float(input(\"Digite a segunda nota: \"))\n",
    "media = (nota1 + nota2) / 2\n",
    "if media == 10:\n",
    "    print(\"Aprovado com Distinção\")\n",
    "elif media >= 7:\n",
    "    print(\"Aprovado\")\n",
    "else:\n",
    "    print(\"Reprovado\")"
   ]
  },
  {
   "cell_type": "markdown",
   "metadata": {
    "colab_type": "text",
    "id": "4ep7kezvzStO"
   },
   "source": [
    "5. Crie um algoritmo em Python que leia três números e mostre o maior deles."
   ]
  },
  {
   "cell_type": "code",
   "execution_count": 13,
   "metadata": {
    "colab": {},
    "colab_type": "code",
    "id": "6K6IHWdr0Blt"
   },
   "outputs": [
    {
     "name": "stdout",
     "output_type": "stream",
     "text": [
      "Digite um número: 1\n",
      "Digite outro número: 3\n",
      "Digite outro número: 2\n",
      "O maior número entre eles é o 3.0.\n"
     ]
    }
   ],
   "source": [
    "numero1 = float(input(\"Digite um número: \"))\n",
    "numero2 = float(input(\"Digite outro número: \"))\n",
    "numero3 = float(input(\"Digite outro número: \"))\n",
    "if numero1 > numero2 and numero1 > numero3:\n",
    "    maior = numero1\n",
    "elif numero2 > numero1 and numero2 > numero3:\n",
    "    maior = numero2\n",
    "else:\n",
    "    maior = numero3\n",
    "print(f\"O maior número entre eles é o {maior}.\")"
   ]
  },
  {
   "cell_type": "markdown",
   "metadata": {
    "colab_type": "text",
    "id": "u6__NaXqzeYg"
   },
   "source": [
    "6. Crie um algoritmo em Python que leia três números e mostre o maior e o menor deles."
   ]
  },
  {
   "cell_type": "code",
   "execution_count": 16,
   "metadata": {
    "colab": {},
    "colab_type": "code",
    "id": "mm2L7g3x0Cfx"
   },
   "outputs": [
    {
     "name": "stdout",
     "output_type": "stream",
     "text": [
      "Digite um número: 10\n",
      "Digite outro número: 50\n",
      "Digite outro número: 3\n",
      "O maior número entre eles é o 50.0 e o menor número entre eles é o 3.0.\n"
     ]
    }
   ],
   "source": [
    "numero1 = float(input(\"Digite um número: \"))\n",
    "numero2 = float(input(\"Digite outro número: \"))\n",
    "numero3 = float(input(\"Digite outro número: \"))\n",
    "\n",
    "numeros_list = []\n",
    "numeros_list.append(numero1)\n",
    "numeros_list.append(numero2)\n",
    "numeros_list.append(numero3)\n",
    "\n",
    "maior = max(numeros_list)\n",
    "menor = min(numeros_list)\n",
    "\n",
    "print(f\"O maior número entre eles é o {maior} e o menor número entre eles é o {menor}.\")"
   ]
  },
  {
   "cell_type": "markdown",
   "metadata": {
    "colab_type": "text",
    "id": "lIlfG-ATzgOr"
   },
   "source": [
    "7. Faça um programa que pergunte o preço de 5 produtos e informe qual produto você deve comprar, sabendo que a decisão é sempre pelo mais barato."
   ]
  },
  {
   "cell_type": "code",
   "execution_count": 19,
   "metadata": {
    "colab": {},
    "colab_type": "code",
    "id": "-y4pB6br0DD_"
   },
   "outputs": [
    {
     "name": "stdout",
     "output_type": "stream",
     "text": [
      "Digite o valor do produto: 1\n",
      "Digite outro valor do produto: 2\n",
      "Digite outro valor do produto: 3\n",
      "Digite outro valor do produto: 4\n",
      "Digite outro valor do produto: 5\n",
      "O produto mais barato custa R$ 1.0.\n"
     ]
    }
   ],
   "source": [
    "produto1 = float(input(\"Digite o valor do produto: \"))\n",
    "produto2 = float(input(\"Digite outro valor do produto: \"))\n",
    "produto3 = float(input(\"Digite outro valor do produto: \"))\n",
    "produto4 = float(input(\"Digite outro valor do produto: \"))\n",
    "produto5 = float(input(\"Digite outro valor do produto: \"))\n",
    "\n",
    "produtos_list = []\n",
    "produtos_list.append(produto1)\n",
    "produtos_list.append(produto2)\n",
    "produtos_list.append(produto3)\n",
    "produtos_list.append(produto4)\n",
    "produtos_list.append(produto5)\n",
    "\n",
    "mais_barato = min(produtos_list)\n",
    "\n",
    "print(f\"O produto mais barato custa R$ {mais_barato}.\")"
   ]
  },
  {
   "cell_type": "markdown",
   "metadata": {
    "colab_type": "text",
    "id": "Vj4OXsJQziu_"
   },
   "source": [
    "8. Crie um algoritmo em Python que leia três números e mostre-os em ordem decrescente."
   ]
  },
  {
   "cell_type": "code",
   "execution_count": 22,
   "metadata": {
    "colab": {},
    "colab_type": "code",
    "id": "RmApGpg30D00"
   },
   "outputs": [
    {
     "name": "stdout",
     "output_type": "stream",
     "text": [
      "Digite um número: 1\n",
      "Digite outro número: 3\n",
      "Digite outro número: 2\n",
      "Os números na ordem são 1.0, 2.0 e 3.0.\n"
     ]
    }
   ],
   "source": [
    "numero1 = float(input(\"Digite um número: \"))\n",
    "numero2 = float(input(\"Digite outro número: \"))\n",
    "numero3 = float(input(\"Digite outro número: \"))\n",
    "\n",
    "if numero1 > numero2 and numero1 > numero3:\n",
    "    maior = numero1\n",
    "    if numero2 > numero3:\n",
    "        menor = numero3\n",
    "        meio = numero2\n",
    "    else:\n",
    "        menor = numero2\n",
    "        meio = numero3\n",
    "elif numero2 > numero1 and numero2 > numero3:\n",
    "    maior = numero2\n",
    "    if numero1 > numero3:\n",
    "        menor = numero3\n",
    "        meio = numero1\n",
    "    else:\n",
    "        menor = numero1\n",
    "        meio = numero3\n",
    "else:\n",
    "    maior = numero3\n",
    "    if numero1 > numero2:\n",
    "        menor = numero2\n",
    "        meio = numero1\n",
    "    else:\n",
    "        menor = numero1\n",
    "        meio = numero2\n",
    "print(f\"Os números na ordem são {menor}, {meio} e {maior}.\")"
   ]
  },
  {
   "cell_type": "markdown",
   "metadata": {
    "colab_type": "text",
    "id": "e7id8Ewgzlow"
   },
   "source": [
    "9. As Organizações Mendéz resolveram dar um aumento de salário aos seus colaboradores e lhe contraram para desenvolver o programa que calculará os reajustes em Python. Faça um programa que receba o salário de um colaborador e o reajuste segundo o seguinte critério, baseado no salário atual:\n",
    "* salários entre 680,00 e 800,00 : aumento de 15%<br>\n",
    "* salários entre 800,00 e 2500,00 : aumento de 10%<br>\n",
    "* salários de 2500,00 em diante : aumento de 5% após o aumento ser realizado.\n",
    "\n",
    "Informe na tela:\n",
    "* o salário antes do reajuste;\n",
    "* o percentual de aumento aplicado;\n",
    "* o valor do aumento;\n",
    "* o novo salário, após o aumento."
   ]
  },
  {
   "cell_type": "code",
   "execution_count": 26,
   "metadata": {
    "colab": {},
    "colab_type": "code",
    "id": "Kl0ainsv0Eif"
   },
   "outputs": [
    {
     "name": "stdout",
     "output_type": "stream",
     "text": [
      "Digite o salário atual do colaborador (R$): 2500\n",
      "Salário antes do reajuste (R$): 2500.0.\n",
      "Percentual do aumento aplicado: 5%.\n",
      "Valor do aumento (R$): 1250.0.\n",
      "Novo salário (R$): 3750.0.\n"
     ]
    }
   ],
   "source": [
    "salario = float(input(\"Digite o salário atual do colaborador (R$): \"))\n",
    "if salario >= 680 and salario < 800:\n",
    "    aumento = salario * 0.15\n",
    "    novoSalario = salario + aumento\n",
    "    percentual = \"15%\"\n",
    "elif salario >= 800 and salario < 2500:\n",
    "    aumento = salario * 0.10\n",
    "    novoSalario = salario + aumento\n",
    "    percentual = \"10%\"\n",
    "elif salario >= 2500:\n",
    "    aumento = salario * 0.5\n",
    "    novoSalario = salario + aumento\n",
    "    percentual = \"5%\"\n",
    "    \n",
    "print(f\"Salário antes do reajuste (R$): {salario}.\")\n",
    "print(f\"Percentual do aumento aplicado: {percentual}.\")\n",
    "print(f\"Valor do aumento (R$): {aumento}.\")\n",
    "print(f\"Novo salário (R$): {novoSalario}.\")"
   ]
  }
 ],
 "metadata": {
  "colab": {
   "name": "Fase2.ipynb",
   "provenance": []
  },
  "kernelspec": {
   "display_name": "Python 3",
   "language": "python",
   "name": "python3"
  },
  "language_info": {
   "codemirror_mode": {
    "name": "ipython",
    "version": 3
   },
   "file_extension": ".py",
   "mimetype": "text/x-python",
   "name": "python",
   "nbconvert_exporter": "python",
   "pygments_lexer": "ipython3",
   "version": "3.8.3"
  }
 },
 "nbformat": 4,
 "nbformat_minor": 1
}
