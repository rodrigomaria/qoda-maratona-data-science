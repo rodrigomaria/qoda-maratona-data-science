{
 "cells": [
  {
   "cell_type": "markdown",
   "metadata": {
    "colab_type": "text",
    "id": "wBC2E9ftAuQr"
   },
   "source": [
    "# Exercício exemplo\n",
    "<b>Identificando conjuntos de dados</b><br>\n",
    "Em uma pesquisa recente, foi perguntado a 614 proprietários de pequenas empresas nos Estados Unidos se eles achavam que a presença\n",
    "de sua empresa no Facebook tinha valor. Duzentos e cinquenta e oito\n",
    "dos 614 responderam que sim. Identifique a população e a amostra.\n",
    "Descreva o conjunto de dados da amostra. (Adaptado de: Manta.)\n",
    "<br><br>\n",
    "<b>Solução</b><br>\n",
    "A população consiste nas respostas de todos os proprietários de pequenas empresas dos Estados Unidos, e a amostra consiste nas respostas dos 614 pequenos empresários pesquisados. O conjunto de dados da amostra consiste\n",
    "em 258 proprietários que responderam sim e 356 que responderam não"
   ]
  },
  {
   "cell_type": "markdown",
   "metadata": {
    "colab_type": "text",
    "id": "2GuifY8tAiEM"
   },
   "source": [
    "# Sua vez!\n",
    "O departamento de energia dos Estados Unidos conduz pesquisas\n",
    "semanais em aproximadamente 800 postos de gasolina para determinar\n",
    "o preço médio por galão de gasolina comum. Em 10 de dezembro de\n",
    "2012, o preço médio era US$ 3,35 por galão. Identifique a população\n",
    "e a amostra. Descreva o conjunto de dados da amostra. (Fonte: Energy\n",
    "Information Administration.)\n",
    "\n",
    "* a. Identifique a população e a amostra.\n",
    "* b. No que consiste o conjunto de dados da amostra?"
   ]
  },
  {
   "cell_type": "markdown",
   "metadata": {
    "colab_type": "text",
    "id": "JJxUq3rQEStp"
   },
   "source": [
    "<b>Solução</b><br>\n",
    "a) População é os postos de gasolina dos Estados Unidos. Amostra são aproximadamente 800 postos selecionados.<br>\n",
    "b) O conjunto de dados da amostra consiste nos postos de gasolina (aproximadamente 800), cuja resposta resultou em preço médio de U$$ 3,35 por galão."
   ]
  },
  {
   "cell_type": "markdown",
   "metadata": {
    "colab_type": "text",
    "id": "2e_u6YTYAqbq"
   },
   "source": [
    "# Exercício exemplo\n",
    "<b>Distinguindo entre um parâmetro e uma estatística</b><br>\n",
    "Determine se o valor numérico descreve um parâmetro populacional ou uma estatística amostral. Explique seu raciocínio.\n",
    "1. Uma pesquisa recente com aproximadamente 400.000 empregadores reportou que o salário médio inicial para um especialista em\n",
    "marketing é de US$ 53.400 por ano. (Fonte: National Association of\n",
    "Colleges and Employers.)\n",
    "\n",
    "2. A nota média de matemática obtida no vestibular pelos calouros de\n",
    "uma universidade é 514.\n",
    "\n",
    "3. Em uma checagem aleatória de 400 lojas varejistas, o FDA (Food\n",
    "and Drug Administration) descobriu que 34% das lojas não estavam\n",
    "estocando peixes na temperatura apropriada.\n",
    "\n",
    "<b>Solução</b><br>\n",
    "1. Em razão de a média de US$ 53.400 por ano ser baseada em um\n",
    "subconjunto da população, ela é uma estatística amostral.\n",
    "\n",
    "2. Em razão de a nota média de matemática de 514 ser baseada em\n",
    "todos os calouros, ela é um parâmetro populacional.\n",
    "\n",
    "3. Em razão de o percentual (34%) ser baseado em um subconjunto da\n",
    "população, ele é uma estatística amostral."
   ]
  },
  {
   "cell_type": "markdown",
   "metadata": {
    "colab_type": "text",
    "id": "YTzyhGNgE2HG"
   },
   "source": [
    "# Sua vez!\n",
    "No ano passado, uma empresa com 65 funcionários teve um gasto\n",
    "total de US$ 5.150.694 com salários. A quantia gasta descreve um parâmetro populacional ou uma estatística amostral?<br>\n",
    "* a. Determine se a quantia gasta é de uma população ou uma amostra.\n",
    "* b. Especifique se a quantia gasta é um parâmetro ou uma estatística."
   ]
  },
  {
   "cell_type": "markdown",
   "metadata": {},
   "source": [
    "<b>Solução</b><br>\n",
    "a) A quantia gasta é um parâmetro, pois foi realizada sobre todos os funcionários da empresa.<br>\n",
    "b) É um parâmetro populacional, pois foi criada baseando-se em todos os funcionários da empresa."
   ]
  },
  {
   "cell_type": "markdown",
   "metadata": {
    "colab_type": "text",
    "id": "-b5_UZCJE9Jp"
   },
   "source": [
    "# Classificando um conjunto de dados\n",
    "Nos exercícios a seguir, determine se o conjunto de dados é uma\n",
    "população ou amostra. Explique seu raciocínio.\n",
    "\n",
    "11. A receita de cada uma das 30 companhias na média industrial do Dow Jones.\n",
    "\n",
    "12. A quantidade de energia acumulada por cada turbina\n",
    "de vento em um campo eólico.\n",
    "\n",
    "13. Uma pesquisa com 500 espectadores em um estádio\n",
    "com 42.000 espectadores.\n",
    "\n",
    "14. O salário anual de cada farmacêutico em uma farmácia.\n",
    "\n",
    "15. Os níveis de colesterol de 20 pacientes em um hospital\n",
    "com 100 pacientes.\n",
    "\n",
    "16. O número de televisores em cada residência nos Estados Unidos.\n",
    "\n",
    "17. O resultado final de cada jogador de golfe em um torneio.\n",
    "\n",
    "18. A idade de cada terceira pessoa que entra em uma loja\n",
    "de roupas.\n",
    "\n",
    "19. O partido político de cada presidente americano.\n",
    "\n",
    "20. Os níveis de contaminação do solo em 10 localidades\n",
    "próximas a um aterro"
   ]
  },
  {
   "cell_type": "markdown",
   "metadata": {
    "colab_type": "text",
    "id": "_pn9EhQyF4BC"
   },
   "source": [
    "<b>Solução</b><br>\n",
    "11) População, pois abrange todas as companhias. <br>\n",
    "12) População, pois abrange cada turbina de vento existente.<br>\n",
    "13) Amostra, pois lida apenas com um número X dentro da população total.<br>\n",
    "14) População, pois trabalha com os dados de todos os farmacêuticos.<br>\n",
    "15) Amostra, pois são avaliados apenas 20 pacientes dos 100 totais.<br>\n",
    "16) População, pois analisa todas as residências dos EUA.<br>\n",
    "17) População, pois analisa cada jogador de golfe do torneio.<br>\n",
    "18) Amostra, pois trabalha apenas com a terceira pessoa, entre várias que possam entrar na loja.<br>\n",
    "19) População, pois verifica o partido de todos os presidentes americanos.<br>\n",
    "20) Amostra, pois analisa somente as 10 localidades próximas a um aterro, e não todas as localidades próximas.<br>"
   ]
  },
  {
   "cell_type": "code",
   "execution_count": null,
   "metadata": {},
   "outputs": [],
   "source": []
  }
 ],
 "metadata": {
  "colab": {
   "name": "Untitled28.ipynb",
   "provenance": []
  },
  "kernelspec": {
   "display_name": "Python 3",
   "language": "python",
   "name": "python3"
  },
  "language_info": {
   "codemirror_mode": {
    "name": "ipython",
    "version": 3
   },
   "file_extension": ".py",
   "mimetype": "text/x-python",
   "name": "python",
   "nbconvert_exporter": "python",
   "pygments_lexer": "ipython3",
   "version": "3.8.5"
  }
 },
 "nbformat": 4,
 "nbformat_minor": 1
}
