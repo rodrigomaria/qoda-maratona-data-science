{
 "cells": [
  {
   "cell_type": "markdown",
   "metadata": {
    "colab_type": "text",
    "id": "CYNAmoj4zSXl"
   },
   "source": [
    "1. Crie um algoritmo em Python que peça uma nota, entre zero e 100. Mostre uma mensagem caso o valor seja inválido e continue pedindo até que o usuário informe um valor válido."
   ]
  },
  {
   "cell_type": "code",
   "execution_count": 2,
   "metadata": {
    "colab": {},
    "colab_type": "code",
    "id": "ViAfpy3GzPN-"
   },
   "outputs": [
    {
     "name": "stdout",
     "output_type": "stream",
     "text": [
      "Digite uma nota entre zero e 100: -2\n",
      "Valor inválido. Digite novamente.\n",
      "Digite uma nota entre zero e 100: -10\n",
      "Valor inválido. Digite novamente.\n",
      "Digite uma nota entre zero e 100: 101\n",
      "Valor inválido. Digite novamente.\n",
      "Digite uma nota entre zero e 100: 10\n"
     ]
    }
   ],
   "source": [
    "repete = True\n",
    "while repete:\n",
    "    nota = float(input(\"Digite uma nota entre zero e 100: \"))\n",
    "    if nota >= 0 and nota <= 100:\n",
    "        repete = False\n",
    "    else:\n",
    "        print(\"Valor inválido. Digite novamente.\")"
   ]
  },
  {
   "cell_type": "markdown",
   "metadata": {
    "colab_type": "text",
    "id": "gdMis92izSmQ"
   },
   "source": [
    "2. Crie um algoritmo em Python que leia um nome de usuário e a sua senha e não aceite a senha igual ao nome do usuário, mostrando uma mensagem de erro e voltando a pedir as informações."
   ]
  },
  {
   "cell_type": "code",
   "execution_count": 4,
   "metadata": {
    "colab": {},
    "colab_type": "code",
    "id": "BFpWkdCBz_zh"
   },
   "outputs": [
    {
     "name": "stdout",
     "output_type": "stream",
     "text": [
      "Digite o nome de usuário: aaa\n",
      "Digite sua senha: aaa\n",
      "O nome de usuário e a senha não podem ser iguais. Tente novamente.\n",
      "Digite o nome de usuário: aaa\n",
      "Digite sua senha: 123\n"
     ]
    }
   ],
   "source": [
    "repete = True\n",
    "while repete:\n",
    "    nome = str(input(\"Digite o nome de usuário: \"))\n",
    "    senha = str(input(\"Digite sua senha: \"))\n",
    "    if nome == senha:\n",
    "        print(\"O nome de usuário e a senha não podem ser iguais. Tente novamente.\")\n",
    "    else:\n",
    "        repete = False"
   ]
  },
  {
   "cell_type": "markdown",
   "metadata": {
    "colab_type": "text",
    "id": "E_0l_Vx6zSo2"
   },
   "source": [
    "3. Crie um algoritmo em Python que leia e valide as seguintes informações:\n",
    "* Nome: maior que 3 caracteres;\n",
    "* Idade: entre 0 e 150;\n",
    "* Salário: maior que zero;\n",
    "* Sexo: 'f' ou 'm';\n",
    "* Estado Civil: 's', 'c', 'v', 'd';"
   ]
  },
  {
   "cell_type": "code",
   "execution_count": null,
   "metadata": {
    "colab": {},
    "colab_type": "code",
    "id": "KwJf7XZS0AZW"
   },
   "outputs": [
    {
     "name": "stdout",
     "output_type": "stream",
     "text": [
      "Digite o nome de usuário: aa\n",
      "Digite sua idade: 152\n",
      "Digite seu salário: -10\n",
      "Digite seu sexo (m ou f): e\n",
      "Digite seu estado civil (s, c, v, d): t\n",
      "O nome de usuário deve possuir mais de 3 caracteres.\n"
     ]
    }
   ],
   "source": [
    "repete = True\n",
    "while repete:\n",
    "    nome = str(input(\"Digite o nome de usuário: \"))\n",
    "    idade = int(input(\"Digite sua idade: \"))\n",
    "    salario = float(input(\"Digite seu salário: \"))\n",
    "    sexo = str(input(\"Digite seu sexo (m ou f): \"))\n",
    "    estado_civil = str(input(\"Digite seu estado civil (s, c, v, d): \"))\n",
    "    if len(nome) < 3:\n",
    "        print(\"O nome de usuário deve possuir mais de 3 caracteres.\")\n",
    "    elif idade < 0 and idade > 150:\n",
    "        print(\"A idade deve ser entre 0 (zero) e 150 anos.\")\n",
    "    elif salario < 0:\n",
    "        print(\"O salário deve ser maior que 0 (zero).\")\n",
    "    elif sexo.lower() not in [\"m\", \"f\"]:\n",
    "        print(\"O sexo deve ser informado usando as letras 'm' ou 'f'.\")\n",
    "    elif estado_civil not in ['s', 'c', 'v', 'd']:\n",
    "        print(\"O estado civil de ser informado usando as letras 's', 'c', 'v' ou 'd'.\")\n",
    "    else:\n",
    "        repete = False"
   ]
  },
  {
   "cell_type": "markdown",
   "metadata": {
    "colab_type": "text",
    "id": "1i4VCiiczSrL"
   },
   "source": [
    "4. Supondo que a população de um país A seja da ordem de 80000 habitantes com uma taxa anual de crescimento de 3% e que a população de B seja 200000 habitantes com uma taxa de crescimento de 1.5%. Crie um algoritmo em Python que calcule e escreva o número de anos necessários para que a população do país A ultrapasse ou iguale a população do país B, mantidas as taxas de crescimento."
   ]
  },
  {
   "cell_type": "code",
   "execution_count": 7,
   "metadata": {
    "colab": {},
    "colab_type": "code",
    "id": "yoW67hjA0BHy"
   },
   "outputs": [
    {
     "name": "stdout",
     "output_type": "stream",
     "text": [
      "O número de anos necessários para que a população do país A ultrapasse ou iguale a população do país B, mantidas as taxas de crescimento, resultou em 63 anos.\n"
     ]
    }
   ],
   "source": [
    "populacaoA = 80000\n",
    "taxaCrescimentoA = 0.03\n",
    "populacaoB = 200000\n",
    "taxaCrescimentoB = 0.015\n",
    "anos = 0\n",
    "\n",
    "while populacaoA < populacaoB:\n",
    "    populacaoA = populacaoA + (populacaoA * taxaCrescimentoA)\n",
    "    populacaoB = populacaoB + (populacaoB * taxaCrescimentoB)\n",
    "    anos = anos + 1\n",
    "    \n",
    "print(f\"O número de anos necessários para que a população do país A ultrapasse ou iguale a população do país B, mantidas as taxas de crescimento, resultou em {anos} anos.\")"
   ]
  },
  {
   "cell_type": "markdown",
   "metadata": {
    "colab_type": "text",
    "id": "4ep7kezvzStO"
   },
   "source": [
    "5. Desenvolva um gerador de tabuada, capaz de gerar a tabuada de qualquer número inteiro entre 1 a 10. O usuário deve informar de qual numero ele deseja ver a tabuada. A saída deve ser conforme o exemplo abaixo:\n",
    "Tabuada de 5:<br>\n",
    "5 X 1 = 5<br>\n",
    "5 X 2 = 10<br>\n",
    "...<br>\n",
    "5 X 10 = 50<br>"
   ]
  },
  {
   "cell_type": "code",
   "execution_count": 6,
   "metadata": {
    "colab": {},
    "colab_type": "code",
    "id": "6K6IHWdr0Blt"
   },
   "outputs": [
    {
     "name": "stdout",
     "output_type": "stream",
     "text": [
      "Digite um número inteiro entre 1 a 10: 5\n",
      "5 X 0 = 0\n",
      "5 X 1 = 5\n",
      "5 X 2 = 10\n",
      "5 X 3 = 15\n",
      "5 X 4 = 20\n",
      "5 X 5 = 25\n",
      "5 X 6 = 30\n",
      "5 X 7 = 35\n",
      "5 X 8 = 40\n",
      "5 X 9 = 45\n",
      "5 X 10 = 50\n"
     ]
    }
   ],
   "source": [
    "tabuada = int(input(\"Digite um número inteiro entre 1 a 10: \"))\n",
    "\n",
    "for numero in range(0,11):\n",
    "    calculo = numero * tabuada\n",
    "    print(f\"{tabuada} X {numero} = {calculo}\")"
   ]
  },
  {
   "cell_type": "markdown",
   "metadata": {
    "colab_type": "text",
    "id": "u6__NaXqzeYg"
   },
   "source": [
    "6. Crie um algoritmo em Python que leia três números e mostre o maior e o menor deles."
   ]
  },
  {
   "cell_type": "code",
   "execution_count": 8,
   "metadata": {
    "colab": {},
    "colab_type": "code",
    "id": "mm2L7g3x0Cfx"
   },
   "outputs": [
    {
     "name": "stdout",
     "output_type": "stream",
     "text": [
      "Digite um número: 5\n",
      "Digite outro número: 6\n",
      "Digite outro número: 3\n",
      "O maior número entre eles é o 6.0 e o menor número entre eles é o 3.0.\n"
     ]
    }
   ],
   "source": [
    "numero1 = float(input(\"Digite um número: \"))\n",
    "numero2 = float(input(\"Digite outro número: \"))\n",
    "numero3 = float(input(\"Digite outro número: \"))\n",
    "\n",
    "numeros_list = []\n",
    "numeros_list.append(numero1)\n",
    "numeros_list.append(numero2)\n",
    "numeros_list.append(numero3)\n",
    "\n",
    "maior = max(numeros_list)\n",
    "menor = min(numeros_list)\n",
    "\n",
    "print(f\"O maior número entre eles é o {maior} e o menor número entre eles é o {menor}.\")"
   ]
  },
  {
   "cell_type": "markdown",
   "metadata": {
    "colab_type": "text",
    "id": "lIlfG-ATzgOr"
   },
   "source": [
    "7. Crie um algoritmo em Python que peça 2 números, base e expoente, calcule e mostre o primeiro número elevado ao segundo número. Não utilize a função de potência da linguagem."
   ]
  },
  {
   "cell_type": "code",
   "execution_count": 15,
   "metadata": {
    "colab": {},
    "colab_type": "code",
    "id": "-y4pB6br0DD_"
   },
   "outputs": [
    {
     "name": "stdout",
     "output_type": "stream",
     "text": [
      "Digite um número inteiro para ser a base: 2\n",
      "Digite um número inteiro para ser o expoente: 3\n",
      "O resultado é 8.\n"
     ]
    }
   ],
   "source": [
    "base = int(input(\"Digite um número inteiro para ser a base: \"))\n",
    "expoente = int(input(\"Digite um número inteiro para ser o expoente: \"))\n",
    "resultado = base\n",
    "\n",
    "if expoente == 0:\n",
    "    resultado = 1\n",
    "else:\n",
    "    for numero in range(1, expoente):\n",
    "        resultado = resultado * base\n",
    "    \n",
    "print(f\"O resultado da potenciação é {resultado}.\")"
   ]
  },
  {
   "cell_type": "markdown",
   "metadata": {
    "colab_type": "text",
    "id": "Vj4OXsJQziu_"
   },
   "source": [
    "8. Crie um algoritmo em Python que peça 10 números inteiros, calcule e mostre a quantidade de números pares e a quantidade de números impares."
   ]
  },
  {
   "cell_type": "code",
   "execution_count": 19,
   "metadata": {
    "colab": {},
    "colab_type": "code",
    "id": "RmApGpg30D00"
   },
   "outputs": [
    {
     "name": "stdout",
     "output_type": "stream",
     "text": [
      "1 - Digite um número inteiro:1\n",
      "2 - Digite um número inteiro:1\n",
      "3 - Digite um número inteiro:1\n",
      "4 - Digite um número inteiro:1\n",
      "5 - Digite um número inteiro:1\n",
      "6 - Digite um número inteiro:1\n",
      "7 - Digite um número inteiro:1\n",
      "8 - Digite um número inteiro:1\n",
      "9 - Digite um número inteiro:1\n",
      "10 - Digite um número inteiro:1\n",
      "Lista: [1, 1, 1, 1, 1, 1, 1, 1, 1, 1].\n",
      "Quantidade de números pares na lista: 0.\n",
      "Quantidade de números ímpares na lista: 10.\n"
     ]
    }
   ],
   "source": [
    "numeros = []\n",
    "for numero in range(0,10):\n",
    "    numero_digitado = int(input(f\"{numero + 1} - Digite um número inteiro:\"))\n",
    "    numeros.append(numero_digitado)\n",
    "    \n",
    "pares = 0\n",
    "impares = 0\n",
    "\n",
    "for numero in numeros:\n",
    "    if numero % 2 == 0:\n",
    "        pares = pares + 1\n",
    "    else:\n",
    "        impares = impares + 1\n",
    "        \n",
    "print(f\"Lista: {numeros}.\")        \n",
    "print(f\"Quantidade de números pares na lista: {pares}.\")\n",
    "print(f\"Quantidade de números ímpares na lista: {impares}.\")"
   ]
  },
  {
   "cell_type": "markdown",
   "metadata": {
    "colab_type": "text",
    "id": "e7id8Ewgzlow"
   },
   "source": [
    "9. Um funcionário de uma empresa recebe aumento salarial anualmente: Sabe-se que:\n",
    "Esse funcionário foi contratado em 1995, com salário inicial de R$ 1.000,00;\n",
    "Em 1996 recebeu aumento de 1,5% sobre seu salário inicial;\n",
    "A partir de 1997 (inclusive), os aumentos salariais sempre correspondem ao dobro do percentual do ano anterior. Crie um algoritmo em Python que determine o salário atual desse funcionário. Após concluir isto, altere o programa permitindo que o usuário digite o salário inicial do funcionário."
   ]
  },
  {
   "cell_type": "code",
   "execution_count": 27,
   "metadata": {
    "colab": {},
    "colab_type": "code",
    "id": "Kl0ainsv0Eif"
   },
   "outputs": [
    {
     "name": "stdout",
     "output_type": "stream",
     "text": [
      "Digite o salário inicial: 10\n",
      "1995 : R$ 10.0.\n",
      "1996 : R$ 10.15.\n",
      "1997 : R$ 10.4545.\n",
      "1998 : R$ 11.081769999999999.\n",
      "1999 : R$ 12.411582399999999.\n",
      "2000 : R$ 15.390362175999998.\n",
      "2001 : R$ 22.77773602048.\n",
      "2002 : R$ 44.644362600140795.\n",
      "2003 : R$ 130.36153879241112.\n",
      "2004 : R$ 630.9498477552698.\n",
      "2005 : R$ 5476.644678515742.\n",
      "2006 : R$ 89597.90694051754.\n",
      "2007 : R$ 2842045.608153216.\n",
      "2008 : R$ 177457327.77308682.\n",
      "2009 : R$ 21983413764.529995.\n",
      "2010 : R$ 5424627180535.422.\n",
      "2011 : R$ 2671737378957306.0.\n",
      "2012 : R$ 2.629096450389147e+18.\n",
      "2013 : R$ 5.171643045631484e+21.\n",
      "2014 : R$ 2.0340899561355923e+25.\n",
      "2015 : R$ 1.5998768413792396e+29.\n",
      "2016 : R$ 2.516548675923254e+33.\n",
      "2017 : R$ 7.916629288082298e+37.\n",
      "2018 : R$ 4.980791649720991e+42.\n",
      "2019 : R$ 6.267336109793903e+47.\n",
      "2020 : R$ 1.57723304221529e+53.\n"
     ]
    }
   ],
   "source": [
    "anoInicial = 1995\n",
    "incrementoSalario = 0.015\n",
    "anoAtual = 2020\n",
    "\n",
    "salario = float(input(\"Digite o salário inicial: \"))\n",
    "print(f\"{anoInicial} : R$ {salario}.\")\n",
    "\n",
    "for ano in range(anoInicial+1, anoAtual+1):\n",
    "    salario = salario + (salario * incrementoSalario)\n",
    "    incrementoSalario = incrementoSalario * 2\n",
    "    print(f\"{ano} : R$ {salario}.\")\n",
    "    "
   ]
  },
  {
   "cell_type": "markdown",
   "metadata": {
    "colab_type": "text",
    "id": "5u9i4kzm-itX"
   },
   "source": [
    "10. Crie um algoritmo em Python com uma função que necessite de um argumento. A função retorna o valor de caractere ‘P’, se seu argumento for positivo, e ‘N’, se seu argumento for zero ou negativo."
   ]
  },
  {
   "cell_type": "code",
   "execution_count": 30,
   "metadata": {
    "colab": {},
    "colab_type": "code",
    "id": "WNt8CLa2-rGt"
   },
   "outputs": [
    {
     "name": "stdout",
     "output_type": "stream",
     "text": [
      "P\n",
      "N\n",
      "N\n"
     ]
    }
   ],
   "source": [
    "def avalia(argumento):\n",
    "    if argumento > 0:\n",
    "        return print(\"P\")\n",
    "    else:\n",
    "        return print(\"N\")\n",
    "    \n",
    "avalia(12)\n",
    "avalia(0)\n",
    "avalia(-6)"
   ]
  },
  {
   "cell_type": "markdown",
   "metadata": {
    "colab_type": "text",
    "id": "CHiYMSOJ-rSY"
   },
   "source": [
    "11. Construa uma função que receba uma data no formato DD/MM/AAAA e devolva uma string no formato DD de mesPorExtenso de AAAA. Opcionalmente, valide a data e retorne NULL caso a data seja inválida."
   ]
  },
  {
   "cell_type": "code",
   "execution_count": 47,
   "metadata": {
    "colab": {},
    "colab_type": "code",
    "id": "6Ukxx6gQ-r4-"
   },
   "outputs": [
    {
     "name": "stdout",
     "output_type": "stream",
     "text": [
      "1 de Dezembro de 1985.\n"
     ]
    }
   ],
   "source": [
    "def converte_data(data):\n",
    "    data_lista = data.split(\"/\")\n",
    "    meses = {'01': 'Janeiro', '02': 'Fevereiro', '03': 'Março', '04': 'Abril', '05': 'Maio', '06': 'Junho',\n",
    "             '07': 'Julho', '08': 'Agosto', '09': 'Setembro', '10': 'Outubro', '11': 'Novembro', '12': 'Dezembro',}\n",
    "    mes_por_extenso = meses.get(data_lista[1])\n",
    "    \n",
    "    if int(data_lista[0]) <= 0:\n",
    "        return \"Dia inválido\"\n",
    "    elif int(data_lista[1]) <= 0 or int(data_lista[1]) > 12:\n",
    "        return \"Mês inválido\"\n",
    "    \n",
    "    return print(f\"{data_lista[0]} de {mes_por_extenso} de {data_lista[2]}.\")\n",
    "\n",
    "converte_data(\"1/12/1985\")"
   ]
  },
  {
   "cell_type": "markdown",
   "metadata": {
    "colab_type": "text",
    "id": "AzUYbZ8A-zj7"
   },
   "source": [
    "12. Crie uma classe que modele uma pessoa:<br>\n",
    "\n",
    "Atributos: nome, idade, peso e altura<br>\n",
    "Métodos: Envelhercer, engordar, emagrecer, crescer.<br>\n",
    "<br>Obs: Por padrão, a cada ano que nossa pessoa envelhece, sendo a idade dela menor que 21 anos, ela deve crescer 0,5 cm."
   ]
  },
  {
   "cell_type": "code",
   "execution_count": 49,
   "metadata": {
    "colab": {},
    "colab_type": "code",
    "id": "qobhV-FC-zRS"
   },
   "outputs": [
    {
     "name": "stdout",
     "output_type": "stream",
     "text": [
      "Nome: Rodrigo, idade: 35 anos, peso: 75kg, altura: 169cm.\n",
      "Nome: Rodrigo, idade: 36 anos, peso: 82kg, altura: 179cm.\n"
     ]
    }
   ],
   "source": [
    "class Pessoa:\n",
    "    def __init__(self, nome: str, idade: int, peso: float, altura: float):\n",
    "        self.nome = nome\n",
    "        self.idade = idade\n",
    "        self.peso = peso\n",
    "        self.altura = altura\n",
    "\n",
    "    def envelhecer(self):\n",
    "        if self.idade < 21:\n",
    "            self.altura += 0.5\n",
    "\n",
    "        self.idade += 1\n",
    "\n",
    "    def engordar(self, peso):\n",
    "        self.peso += peso\n",
    "\n",
    "    def emagrecer(self, peso):\n",
    "        self.peso -= peso\n",
    "\n",
    "    def crescer(self, altura):\n",
    "        self.altura += altura\n",
    "\n",
    "\n",
    "    def exibePessoa(self):\n",
    "        print(f\"Nome: {self.nome}, idade: {self.idade} anos, peso: {self.peso}kg, altura: {self.altura}cm.\")\n",
    "\n",
    "\n",
    "rodrigo = Pessoa('Rodrigo', 35, 75, 169)\n",
    "rodrigo.exibePessoa()\n",
    "rodrigo.envelhecer()\n",
    "rodrigo.engordar(10)\n",
    "rodrigo.emagrecer(3)\n",
    "rodrigo.crescer(10)\n",
    "rodrigo.exibePessoa()\n",
    "        "
   ]
  }
 ],
 "metadata": {
  "colab": {
   "name": "Fase3.ipynb",
   "provenance": []
  },
  "kernelspec": {
   "display_name": "Python 3",
   "language": "python",
   "name": "python3"
  },
  "language_info": {
   "codemirror_mode": {
    "name": "ipython",
    "version": 3
   },
   "file_extension": ".py",
   "mimetype": "text/x-python",
   "name": "python",
   "nbconvert_exporter": "python",
   "pygments_lexer": "ipython3",
   "version": "3.8.3"
  }
 },
 "nbformat": 4,
 "nbformat_minor": 1
}
