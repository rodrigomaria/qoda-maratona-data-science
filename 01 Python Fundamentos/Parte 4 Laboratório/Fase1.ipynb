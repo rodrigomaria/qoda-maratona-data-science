{
 "cells": [
  {
   "cell_type": "markdown",
   "metadata": {
    "colab_type": "text",
    "id": "CYNAmoj4zSXl"
   },
   "source": [
    "1. Crie um algoritmo em Python que mostre a mensagem \"Alo mundo\" na tela."
   ]
  },
  {
   "cell_type": "code",
   "execution_count": 1,
   "metadata": {
    "colab": {},
    "colab_type": "code",
    "id": "ViAfpy3GzPN-"
   },
   "outputs": [
    {
     "name": "stdout",
     "output_type": "stream",
     "text": [
      "Alo mundo\n"
     ]
    }
   ],
   "source": [
    "print(\"Alo mundo\")"
   ]
  },
  {
   "cell_type": "markdown",
   "metadata": {
    "colab_type": "text",
    "id": "gdMis92izSmQ"
   },
   "source": [
    "2. Crie um algoritmo em Python que peça dois números e imprima a soma."
   ]
  },
  {
   "cell_type": "code",
   "execution_count": 2,
   "metadata": {
    "colab": {},
    "colab_type": "code",
    "id": "BFpWkdCBz_zh"
   },
   "outputs": [
    {
     "name": "stdout",
     "output_type": "stream",
     "text": [
      "Digite um número: 2\n",
      "Digite um número: 3\n",
      "A soma dos números é 5\n"
     ]
    }
   ],
   "source": [
    "numero1 = int(input(\"Digite um número: \"))\n",
    "numero2 = int(input(\"Digite outro número: \"))\n",
    "soma = numero1 + numero2\n",
    "print(f\"A soma dos números é {soma}\")"
   ]
  },
  {
   "cell_type": "markdown",
   "metadata": {
    "colab_type": "text",
    "id": "E_0l_Vx6zSo2"
   },
   "source": [
    "3. Crie um algoritmo em Python que peça um número e então mostre a mensagem O número informado foi [número]."
   ]
  },
  {
   "cell_type": "code",
   "execution_count": 3,
   "metadata": {
    "colab": {},
    "colab_type": "code",
    "id": "KwJf7XZS0AZW"
   },
   "outputs": [
    {
     "name": "stdout",
     "output_type": "stream",
     "text": [
      "Digite um número: 12\n",
      "O número informado foi 12.\n"
     ]
    }
   ],
   "source": [
    "numero = int(input(\"Digite um número: \"))\n",
    "print(f\"O número informado foi {numero}.\")"
   ]
  },
  {
   "cell_type": "markdown",
   "metadata": {
    "colab_type": "text",
    "id": "1i4VCiiczSrL"
   },
   "source": [
    "4. Crie um algoritmo em Python que converta metros para centímetros."
   ]
  },
  {
   "cell_type": "code",
   "execution_count": 5,
   "metadata": {
    "colab": {},
    "colab_type": "code",
    "id": "yoW67hjA0BHy"
   },
   "outputs": [
    {
     "name": "stdout",
     "output_type": "stream",
     "text": [
      "Digite o tamanho em metros: 1.6\n",
      "O tamanho em centímetros é 160.0 cm.\n"
     ]
    }
   ],
   "source": [
    "metros = float(input(\"Digite o tamanho em metros: \"))\n",
    "centimetros = metros * 100\n",
    "print(f\"O tamanho em centímetros é {centimetros} cm.\")"
   ]
  },
  {
   "cell_type": "markdown",
   "metadata": {
    "colab_type": "text",
    "id": "4ep7kezvzStO"
   },
   "source": [
    "5. Crie um algoritmo em Python que peça as 4 notas bimestrais e mostre a média."
   ]
  },
  {
   "cell_type": "code",
   "execution_count": 6,
   "metadata": {
    "colab": {},
    "colab_type": "code",
    "id": "6K6IHWdr0Blt"
   },
   "outputs": [
    {
     "name": "stdout",
     "output_type": "stream",
     "text": [
      "Digite a nota 1: 7\n",
      "Digite a nota 2: 7\n",
      "Digite a nota 3: 7\n",
      "Digite a nota 4: 7\n",
      "A média das notas é 7.0.\n"
     ]
    }
   ],
   "source": [
    "nota1 = float(input(\"Digite a nota 1: \"))\n",
    "nota2 = float(input(\"Digite a nota 2: \"))\n",
    "nota3 = float(input(\"Digite a nota 3: \"))\n",
    "nota4 = float(input(\"Digite a nota 4: \"))\n",
    "media = (nota1 + nota2 + nota3 + nota4)/4\n",
    "print(f\"A média das notas é {media}.\")"
   ]
  },
  {
   "cell_type": "markdown",
   "metadata": {
    "colab_type": "text",
    "id": "u6__NaXqzeYg"
   },
   "source": [
    "6. Crie um algoritmo em Python que peça o raio de um círculo, calcule e mostre sua área."
   ]
  },
  {
   "cell_type": "code",
   "execution_count": 9,
   "metadata": {
    "colab": {},
    "colab_type": "code",
    "id": "mm2L7g3x0Cfx"
   },
   "outputs": [
    {
     "name": "stdout",
     "output_type": "stream",
     "text": [
      "Digite o raio do círculo: 12\n",
      "A área do círculo é 452.3893421169302 cm².\n"
     ]
    }
   ],
   "source": [
    "import math\n",
    "\n",
    "raio = float(input(\"Digite o raio do círculo (em cm): \"))\n",
    "area = math.pi * (raio * raio)\n",
    "print(f\"A área do círculo é {area} cm².\")"
   ]
  },
  {
   "cell_type": "markdown",
   "metadata": {
    "colab_type": "text",
    "id": "lIlfG-ATzgOr"
   },
   "source": [
    "7. Crie um algoritmo em Python que calcule a área de um quadrado, em seguida mostre o dobro desta área para o usuário."
   ]
  },
  {
   "cell_type": "code",
   "execution_count": 10,
   "metadata": {
    "colab": {},
    "colab_type": "code",
    "id": "-y4pB6br0DD_"
   },
   "outputs": [
    {
     "name": "stdout",
     "output_type": "stream",
     "text": [
      "Digite o tamanho do lado do quadrado (em cm): 10\n",
      "A área do quadrado é 100.0 cm².\n"
     ]
    }
   ],
   "source": [
    "lado = float(input(\"Digite o tamanho do lado do quadrado (em cm): \"))\n",
    "area = lado * lado\n",
    "print(f\"A área do quadrado é {area} cm².\")"
   ]
  },
  {
   "cell_type": "markdown",
   "metadata": {
    "colab_type": "text",
    "id": "Vj4OXsJQziu_"
   },
   "source": [
    "8. Crie um algoritmo em Python que pergunte quanto você ganha por hora e o número de horas trabalhadas no mês. Calcule e mostre o total do seu salário no referido mês.\n"
   ]
  },
  {
   "cell_type": "code",
   "execution_count": 12,
   "metadata": {
    "colab": {},
    "colab_type": "code",
    "id": "RmApGpg30D00"
   },
   "outputs": [
    {
     "name": "stdout",
     "output_type": "stream",
     "text": [
      "Digite o valor hora (em reais): 10\n",
      "Digite as horas trabalhadas no mês: 10\n",
      "O salário do mês será de 100.0 reais.\n"
     ]
    }
   ],
   "source": [
    "valorHora = float(input(\"Digite o valor hora (em reais): \"))\n",
    "horasTrabalhadas = float(input(\"Digite as horas trabalhadas no mês: \"))\n",
    "salario = valorHora * horasTrabalhadas\n",
    "print(f\"O salário do mês será de {salario} reais.\")"
   ]
  },
  {
   "cell_type": "markdown",
   "metadata": {
    "colab_type": "text",
    "id": "e7id8Ewgzlow"
   },
   "source": [
    "9. Crie um algoritmo em Python que peça a temperatura em graus Fahrenheit, transforme e mostre a temperatura em graus Celsius.\n",
    "C = (5 * (F-32) / 9)."
   ]
  },
  {
   "cell_type": "code",
   "execution_count": 13,
   "metadata": {
    "colab": {},
    "colab_type": "code",
    "id": "Kl0ainsv0Eif"
   },
   "outputs": [
    {
     "name": "stdout",
     "output_type": "stream",
     "text": [
      "Digite a temperatura na escala Fahrenheit: 32\n",
      "A temperatura em Celsius é de 0.0 Cº.\n"
     ]
    }
   ],
   "source": [
    "fahrenheit = float(input(\"Digite a temperatura na escala Fahrenheit: \"))\n",
    "converterCelsius = (5 * (fahrenheit - 32) / 9)\n",
    "print(f\"A temperatura em Celsius é de {converterCelsius} Cº.\")"
   ]
  },
  {
   "cell_type": "markdown",
   "metadata": {
    "colab_type": "text",
    "id": "mFCgXRPaznno"
   },
   "source": [
    "10. Crie um algoritmo em Python que peça a temperatura em graus Celsius, transforme e mostre em graus Fahrenheit."
   ]
  },
  {
   "cell_type": "code",
   "execution_count": 15,
   "metadata": {
    "colab": {},
    "colab_type": "code",
    "id": "xEAAHRi00FS8",
    "scrolled": true
   },
   "outputs": [
    {
     "name": "stdout",
     "output_type": "stream",
     "text": [
      "Digite a temperatura na escala Celsius: 0\n",
      "A temperatura em Fahrenheit é de 32.0 Cº.\n"
     ]
    }
   ],
   "source": [
    "celsius = float(input(\"Digite a temperatura na escala Celsius: \"))\n",
    "converterFahrenheit = (celsius * 9 / 5) + 32\n",
    "print(f\"A temperatura em Fahrenheit é de {converterFahrenheit} Cº.\")"
   ]
  },
  {
   "cell_type": "markdown",
   "metadata": {
    "colab_type": "text",
    "id": "j3fdhu-8zqu9"
   },
   "source": [
    "11. Crie um algoritmo em Python que peça 2 números inteiros e um número real. Calcule e mostre:\n",
    "* a soma do dobro do primeiro com metade do segundo .\n",
    "* a soma do triplo do primeiro com o terceiro.\n",
    "* o terceiro elevado ao cubo."
   ]
  },
  {
   "cell_type": "code",
   "execution_count": 18,
   "metadata": {
    "colab": {},
    "colab_type": "code",
    "id": "ZEqZrKjt0F5B"
   },
   "outputs": [
    {
     "name": "stdout",
     "output_type": "stream",
     "text": [
      "Digite um número inteiro: 2\n",
      "Digite outro número inteiro: 3\n",
      "Digite um número real: 3\n",
      "\n",
      "\n",
      "A soma do dobro do primeiro com metade do segundo é 5.5\n",
      "A soma do triplo do primeiro com o terceiro é 9.0\n",
      "O terceiro elevado ao cubo é 27.0\n"
     ]
    }
   ],
   "source": [
    "numeroInteiro1 = int(input(\"Digite um número inteiro: \"))\n",
    "numeroInteiro2 = int(input(\"Digite outro número inteiro: \"))\n",
    "numeroReal = float(input(\"Digite um número real: \"))\n",
    "\n",
    "primeiraOperacao = (numeroInteiro1 * 2) + (numeroInteiro2 / 2)\n",
    "segundaOperacao = (numeroInteiro1 * 3) + numeroReal\n",
    "terceiraOperacao = numeroReal**3\n",
    "print(f\"A soma do dobro do primeiro com metade do segundo é {primeiraOperacao}\")\n",
    "print(f\"A soma do triplo do primeiro com o terceiro é {segundaOperacao}\")\n",
    "print(f\"O terceiro elevado ao cubo é {terceiraOperacao}\")"
   ]
  },
  {
   "cell_type": "code",
   "execution_count": null,
   "metadata": {},
   "outputs": [],
   "source": []
  }
 ],
 "metadata": {
  "colab": {
   "name": "Fase1.ipynb",
   "provenance": []
  },
  "kernelspec": {
   "display_name": "Python 3",
   "language": "python",
   "name": "python3"
  },
  "language_info": {
   "codemirror_mode": {
    "name": "ipython",
    "version": 3
   },
   "file_extension": ".py",
   "mimetype": "text/x-python",
   "name": "python",
   "nbconvert_exporter": "python",
   "pygments_lexer": "ipython3",
   "version": "3.8.3"
  }
 },
 "nbformat": 4,
 "nbformat_minor": 1
}
